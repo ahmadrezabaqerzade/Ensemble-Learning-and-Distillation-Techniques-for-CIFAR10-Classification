{
 "cells": [
  {
   "cell_type": "code",
   "execution_count": 52,
   "metadata": {},
   "outputs": [],
   "source": [
    "import torch as tc \n",
    "from torch import nn, optim\n",
    "from torch.utils.data import DataLoader, Dataset, random_split \n",
    "\n",
    "\n",
    "import torchvision as tv \n",
    "from torchvision import transforms as T \n",
    "from torchvision import datasets \n",
    "from torchvision import models \n",
    "\n",
    "from torchmetrics import Accuracy\n",
    "\n",
    "from tqdm import tqdm \n",
    "\n",
    "import numpy as np \n",
    "import matplotlib.pyplot as plt \n",
    "\n",
    "import copy"
   ]
  },
  {
   "cell_type": "code",
   "execution_count": 53,
   "metadata": {},
   "outputs": [
    {
     "data": {
      "text/plain": [
       "'cuda'"
      ]
     },
     "execution_count": 53,
     "metadata": {},
     "output_type": "execute_result"
    }
   ],
   "source": [
    "device = 'cuda' if tc.cuda.is_available() else 'cpu'\n",
    "device"
   ]
  },
  {
   "cell_type": "code",
   "execution_count": 54,
   "metadata": {},
   "outputs": [],
   "source": [
    "class AverageMeter(object):\n",
    "    \"\"\"Computes and stores the average and current value\"\"\"\n",
    "    def __init__(self):\n",
    "        self.reset()\n",
    "\n",
    "    def reset(self):\n",
    "        self.val = 0\n",
    "        self.avg = 0\n",
    "        self.sum = 0\n",
    "        self.count = 0\n",
    "\n",
    "    def update(self, val, n=1):\n",
    "        self.val = val\n",
    "        self.sum += val * n\n",
    "        self.count += n\n",
    "        self.avg = self.sum / self.count"
   ]
  },
  {
   "cell_type": "code",
   "execution_count": 55,
   "metadata": {},
   "outputs": [],
   "source": [
    "def train_one_epoch(student_model, teacher_model, train_loader, loss_func, optimizer, shedular, epoch):\n",
    "    student_model.train()\n",
    "\n",
    "    train_loss=AverageMeter()\n",
    "    train_acc=Accuracy(task='multiclass', num_classes=10).to(device)\n",
    "\n",
    "    with tqdm(train_loader, unit='batch') as tepoch:\n",
    "        for x, y in tepoch:\n",
    "            if epoch is not None:\n",
    "                tepoch.set_description(f'Epoch={epoch}')\n",
    "                \n",
    "            optimizer.zero_grad()\n",
    "\n",
    "            x = x.to(device)\n",
    "            y = y.to(device)\n",
    " \n",
    "            student_output = student_model(x)\n",
    "            with tc.no_grad():\n",
    "                teacher_output = teacher_model(x)\n",
    "\n",
    "            loss = loss_func(student_output, teacher_output,  y)\n",
    "            loss.backward()\n",
    "            optimizer.step()\n",
    "            shedular.step()\n",
    "            \n",
    "\n",
    "            train_loss.update(loss.item())\n",
    "            train_acc(student_output.squeeze(), y.int())\n",
    "\n",
    "            tepoch.set_postfix(loss=train_loss.avg, Accuracy=train_acc.compute().item() * 100)\n",
    "\n",
    "    return student_model, train_loss.avg, train_acc.compute().item() * 100"
   ]
  },
  {
   "cell_type": "code",
   "execution_count": 56,
   "metadata": {},
   "outputs": [],
   "source": [
    "def validation(model, valid_loaedr, loss_func):\n",
    "    model.eval()\n",
    "\n",
    "    valid_loss=AverageMeter()\n",
    "    valid_acc=Accuracy(task='multiclass', num_classes=10).to(device)\n",
    "\n",
    "    for x, y in valid_loaedr:\n",
    "\n",
    "        x=x.to(device)\n",
    "        y=y.to(device)\n",
    "\n",
    "        yp=model(x)\n",
    "        loss=loss_func(yp.squeeze(), y)\n",
    "\n",
    "        valid_loss.update(loss.item())\n",
    "        valid_acc(yp.squeeze(), y)\n",
    "\n",
    "    print(f'valid loss={valid_loss.avg:.4}, accuracy={valid_acc.compute().item() * 100 :.4}')\n",
    "    print()\n",
    "\n",
    "    return valid_loss.avg, valid_acc.compute().item() * 100"
   ]
  },
  {
   "cell_type": "code",
   "execution_count": 57,
   "metadata": {},
   "outputs": [],
   "source": [
    "train_transform = T.Compose([T.RandomCrop(32, 4),\n",
    "                             T.RandomHorizontalFlip(),\n",
    "                             T.ToTensor(),\n",
    "                             T.Normalize((0.4914, 0.4822, 0.4465), (0.2023, 0.1994, 0.2010))])\n",
    "\n",
    "test_transform = T.Compose([T.ToTensor(), \n",
    "                            T.Normalize((0.4914, 0.4822, 0.4465), (0.2023, 0.1994, 0.2010))])"
   ]
  },
  {
   "cell_type": "code",
   "execution_count": 58,
   "metadata": {},
   "outputs": [
    {
     "name": "stdout",
     "output_type": "stream",
     "text": [
      "Files already downloaded and verified\n",
      "Files already downloaded and verified\n"
     ]
    }
   ],
   "source": [
    "train_dataset = datasets.CIFAR10(root =  '/home/ahmadrezabaqerzadeh/datasets/', train = True, download = True, transform = train_transform)\n",
    "test_dataset  = datasets.CIFAR10(root = '/home/ahmadrezabaqerzadeh/datasets/', train = False, download = True, transform = test_transform)"
   ]
  },
  {
   "cell_type": "code",
   "execution_count": 59,
   "metadata": {},
   "outputs": [],
   "source": [
    "train_loader = DataLoader(train_dataset, batch_size = 128, shuffle = True, num_workers = 2)\n",
    "test_loader  = DataLoader(test_dataset, batch_size = 100, shuffle = False, num_workers = 2)"
   ]
  },
  {
   "cell_type": "code",
   "execution_count": 60,
   "metadata": {},
   "outputs": [],
   "source": [
    "teacher_model = models.mobilenet_v2() \n",
    "teacher_model.classifier[1] = nn.Linear(1280, 10)\n",
    "teacher_model.load_state_dict(tc.load('/home/ahmadrezabaqerzadeh/AI/git/repo18/KnowledgeDistillation/models/TeacherModel.pt'))\n",
    "teacher_model = teacher_model.requires_grad_(False)"
   ]
  },
  {
   "cell_type": "code",
   "execution_count": 61,
   "metadata": {},
   "outputs": [
    {
     "name": "stdout",
     "output_type": "stream",
     "text": [
      "features.0.0.weight False\n",
      "features.0.1.weight False\n",
      "features.0.1.bias False\n",
      "features.1.conv.0.0.weight False\n",
      "features.1.conv.0.1.weight False\n",
      "features.1.conv.0.1.bias False\n",
      "features.1.conv.1.weight False\n",
      "features.1.conv.2.weight False\n",
      "features.1.conv.2.bias False\n",
      "features.2.conv.0.0.weight False\n",
      "features.2.conv.0.1.weight False\n",
      "features.2.conv.0.1.bias False\n",
      "features.2.conv.1.0.weight False\n",
      "features.2.conv.1.1.weight False\n",
      "features.2.conv.1.1.bias False\n",
      "features.2.conv.2.weight False\n",
      "features.2.conv.3.weight False\n",
      "features.2.conv.3.bias False\n",
      "features.3.conv.0.0.weight False\n",
      "features.3.conv.0.1.weight False\n",
      "features.3.conv.0.1.bias False\n",
      "features.3.conv.1.0.weight False\n",
      "features.3.conv.1.1.weight False\n",
      "features.3.conv.1.1.bias False\n",
      "features.3.conv.2.weight False\n",
      "features.3.conv.3.weight False\n",
      "features.3.conv.3.bias False\n",
      "features.4.conv.0.0.weight False\n",
      "features.4.conv.0.1.weight False\n",
      "features.4.conv.0.1.bias False\n",
      "features.4.conv.1.0.weight False\n",
      "features.4.conv.1.1.weight False\n",
      "features.4.conv.1.1.bias False\n",
      "features.4.conv.2.weight False\n",
      "features.4.conv.3.weight False\n",
      "features.4.conv.3.bias False\n",
      "features.5.conv.0.0.weight False\n",
      "features.5.conv.0.1.weight False\n",
      "features.5.conv.0.1.bias False\n",
      "features.5.conv.1.0.weight False\n",
      "features.5.conv.1.1.weight False\n",
      "features.5.conv.1.1.bias False\n",
      "features.5.conv.2.weight False\n",
      "features.5.conv.3.weight False\n",
      "features.5.conv.3.bias False\n",
      "features.6.conv.0.0.weight False\n",
      "features.6.conv.0.1.weight False\n",
      "features.6.conv.0.1.bias False\n",
      "features.6.conv.1.0.weight False\n",
      "features.6.conv.1.1.weight False\n",
      "features.6.conv.1.1.bias False\n",
      "features.6.conv.2.weight False\n",
      "features.6.conv.3.weight False\n",
      "features.6.conv.3.bias False\n",
      "features.7.conv.0.0.weight False\n",
      "features.7.conv.0.1.weight False\n",
      "features.7.conv.0.1.bias False\n",
      "features.7.conv.1.0.weight False\n",
      "features.7.conv.1.1.weight False\n",
      "features.7.conv.1.1.bias False\n",
      "features.7.conv.2.weight False\n",
      "features.7.conv.3.weight False\n",
      "features.7.conv.3.bias False\n",
      "features.8.conv.0.0.weight False\n",
      "features.8.conv.0.1.weight False\n",
      "features.8.conv.0.1.bias False\n",
      "features.8.conv.1.0.weight False\n",
      "features.8.conv.1.1.weight False\n",
      "features.8.conv.1.1.bias False\n",
      "features.8.conv.2.weight False\n",
      "features.8.conv.3.weight False\n",
      "features.8.conv.3.bias False\n",
      "features.9.conv.0.0.weight False\n",
      "features.9.conv.0.1.weight False\n",
      "features.9.conv.0.1.bias False\n",
      "features.9.conv.1.0.weight False\n",
      "features.9.conv.1.1.weight False\n",
      "features.9.conv.1.1.bias False\n",
      "features.9.conv.2.weight False\n",
      "features.9.conv.3.weight False\n",
      "features.9.conv.3.bias False\n",
      "features.10.conv.0.0.weight False\n",
      "features.10.conv.0.1.weight False\n",
      "features.10.conv.0.1.bias False\n",
      "features.10.conv.1.0.weight False\n",
      "features.10.conv.1.1.weight False\n",
      "features.10.conv.1.1.bias False\n",
      "features.10.conv.2.weight False\n",
      "features.10.conv.3.weight False\n",
      "features.10.conv.3.bias False\n",
      "features.11.conv.0.0.weight False\n",
      "features.11.conv.0.1.weight False\n",
      "features.11.conv.0.1.bias False\n",
      "features.11.conv.1.0.weight False\n",
      "features.11.conv.1.1.weight False\n",
      "features.11.conv.1.1.bias False\n",
      "features.11.conv.2.weight False\n",
      "features.11.conv.3.weight False\n",
      "features.11.conv.3.bias False\n",
      "features.12.conv.0.0.weight False\n",
      "features.12.conv.0.1.weight False\n",
      "features.12.conv.0.1.bias False\n",
      "features.12.conv.1.0.weight False\n",
      "features.12.conv.1.1.weight False\n",
      "features.12.conv.1.1.bias False\n",
      "features.12.conv.2.weight False\n",
      "features.12.conv.3.weight False\n",
      "features.12.conv.3.bias False\n",
      "features.13.conv.0.0.weight False\n",
      "features.13.conv.0.1.weight False\n",
      "features.13.conv.0.1.bias False\n",
      "features.13.conv.1.0.weight False\n",
      "features.13.conv.1.1.weight False\n",
      "features.13.conv.1.1.bias False\n",
      "features.13.conv.2.weight False\n",
      "features.13.conv.3.weight False\n",
      "features.13.conv.3.bias False\n",
      "features.14.conv.0.0.weight False\n",
      "features.14.conv.0.1.weight False\n",
      "features.14.conv.0.1.bias False\n",
      "features.14.conv.1.0.weight False\n",
      "features.14.conv.1.1.weight False\n",
      "features.14.conv.1.1.bias False\n",
      "features.14.conv.2.weight False\n",
      "features.14.conv.3.weight False\n",
      "features.14.conv.3.bias False\n",
      "features.15.conv.0.0.weight False\n",
      "features.15.conv.0.1.weight False\n",
      "features.15.conv.0.1.bias False\n",
      "features.15.conv.1.0.weight False\n",
      "features.15.conv.1.1.weight False\n",
      "features.15.conv.1.1.bias False\n",
      "features.15.conv.2.weight False\n",
      "features.15.conv.3.weight False\n",
      "features.15.conv.3.bias False\n",
      "features.16.conv.0.0.weight False\n",
      "features.16.conv.0.1.weight False\n",
      "features.16.conv.0.1.bias False\n",
      "features.16.conv.1.0.weight False\n",
      "features.16.conv.1.1.weight False\n",
      "features.16.conv.1.1.bias False\n",
      "features.16.conv.2.weight False\n",
      "features.16.conv.3.weight False\n",
      "features.16.conv.3.bias False\n",
      "features.17.conv.0.0.weight False\n",
      "features.17.conv.0.1.weight False\n",
      "features.17.conv.0.1.bias False\n",
      "features.17.conv.1.0.weight False\n",
      "features.17.conv.1.1.weight False\n",
      "features.17.conv.1.1.bias False\n",
      "features.17.conv.2.weight False\n",
      "features.17.conv.3.weight False\n",
      "features.17.conv.3.bias False\n",
      "features.18.0.weight False\n",
      "features.18.1.weight False\n",
      "features.18.1.bias False\n",
      "classifier.1.weight False\n",
      "classifier.1.bias False\n"
     ]
    }
   ],
   "source": [
    "for name, param in teacher_model.named_parameters():\n",
    "    print(name, param.requires_grad)"
   ]
  },
  {
   "cell_type": "code",
   "execution_count": 62,
   "metadata": {},
   "outputs": [
    {
     "data": {
      "text/plain": [
       "MobileNetV2(\n",
       "  (features): Sequential(\n",
       "    (0): Conv2dNormActivation(\n",
       "      (0): Conv2d(3, 32, kernel_size=(3, 3), stride=(2, 2), padding=(1, 1), bias=False)\n",
       "      (1): BatchNorm2d(32, eps=1e-05, momentum=0.1, affine=True, track_running_stats=True)\n",
       "      (2): ReLU6(inplace=True)\n",
       "    )\n",
       "    (1): InvertedResidual(\n",
       "      (conv): Sequential(\n",
       "        (0): Conv2dNormActivation(\n",
       "          (0): Conv2d(32, 32, kernel_size=(3, 3), stride=(1, 1), padding=(1, 1), groups=32, bias=False)\n",
       "          (1): BatchNorm2d(32, eps=1e-05, momentum=0.1, affine=True, track_running_stats=True)\n",
       "          (2): ReLU6(inplace=True)\n",
       "        )\n",
       "        (1): Conv2d(32, 16, kernel_size=(1, 1), stride=(1, 1), bias=False)\n",
       "        (2): BatchNorm2d(16, eps=1e-05, momentum=0.1, affine=True, track_running_stats=True)\n",
       "      )\n",
       "    )\n",
       "    (2): InvertedResidual(\n",
       "      (conv): Sequential(\n",
       "        (0): Conv2dNormActivation(\n",
       "          (0): Conv2d(16, 96, kernel_size=(1, 1), stride=(1, 1), bias=False)\n",
       "          (1): BatchNorm2d(96, eps=1e-05, momentum=0.1, affine=True, track_running_stats=True)\n",
       "          (2): ReLU6(inplace=True)\n",
       "        )\n",
       "        (1): Conv2dNormActivation(\n",
       "          (0): Conv2d(96, 96, kernel_size=(3, 3), stride=(2, 2), padding=(1, 1), groups=96, bias=False)\n",
       "          (1): BatchNorm2d(96, eps=1e-05, momentum=0.1, affine=True, track_running_stats=True)\n",
       "          (2): ReLU6(inplace=True)\n",
       "        )\n",
       "        (2): Conv2d(96, 24, kernel_size=(1, 1), stride=(1, 1), bias=False)\n",
       "        (3): BatchNorm2d(24, eps=1e-05, momentum=0.1, affine=True, track_running_stats=True)\n",
       "      )\n",
       "    )\n",
       "    (3): InvertedResidual(\n",
       "      (conv): Sequential(\n",
       "        (0): Conv2dNormActivation(\n",
       "          (0): Conv2d(24, 144, kernel_size=(1, 1), stride=(1, 1), bias=False)\n",
       "          (1): BatchNorm2d(144, eps=1e-05, momentum=0.1, affine=True, track_running_stats=True)\n",
       "          (2): ReLU6(inplace=True)\n",
       "        )\n",
       "        (1): Conv2dNormActivation(\n",
       "          (0): Conv2d(144, 144, kernel_size=(3, 3), stride=(1, 1), padding=(1, 1), groups=144, bias=False)\n",
       "          (1): BatchNorm2d(144, eps=1e-05, momentum=0.1, affine=True, track_running_stats=True)\n",
       "          (2): ReLU6(inplace=True)\n",
       "        )\n",
       "        (2): Conv2d(144, 24, kernel_size=(1, 1), stride=(1, 1), bias=False)\n",
       "        (3): BatchNorm2d(24, eps=1e-05, momentum=0.1, affine=True, track_running_stats=True)\n",
       "      )\n",
       "    )\n",
       "    (4): InvertedResidual(\n",
       "      (conv): Sequential(\n",
       "        (0): Conv2dNormActivation(\n",
       "          (0): Conv2d(24, 144, kernel_size=(1, 1), stride=(1, 1), bias=False)\n",
       "          (1): BatchNorm2d(144, eps=1e-05, momentum=0.1, affine=True, track_running_stats=True)\n",
       "          (2): ReLU6(inplace=True)\n",
       "        )\n",
       "        (1): Conv2dNormActivation(\n",
       "          (0): Conv2d(144, 144, kernel_size=(3, 3), stride=(2, 2), padding=(1, 1), groups=144, bias=False)\n",
       "          (1): BatchNorm2d(144, eps=1e-05, momentum=0.1, affine=True, track_running_stats=True)\n",
       "          (2): ReLU6(inplace=True)\n",
       "        )\n",
       "        (2): Conv2d(144, 32, kernel_size=(1, 1), stride=(1, 1), bias=False)\n",
       "        (3): BatchNorm2d(32, eps=1e-05, momentum=0.1, affine=True, track_running_stats=True)\n",
       "      )\n",
       "    )\n",
       "    (5): InvertedResidual(\n",
       "      (conv): Sequential(\n",
       "        (0): Conv2dNormActivation(\n",
       "          (0): Conv2d(32, 192, kernel_size=(1, 1), stride=(1, 1), bias=False)\n",
       "          (1): BatchNorm2d(192, eps=1e-05, momentum=0.1, affine=True, track_running_stats=True)\n",
       "          (2): ReLU6(inplace=True)\n",
       "        )\n",
       "        (1): Conv2dNormActivation(\n",
       "          (0): Conv2d(192, 192, kernel_size=(3, 3), stride=(1, 1), padding=(1, 1), groups=192, bias=False)\n",
       "          (1): BatchNorm2d(192, eps=1e-05, momentum=0.1, affine=True, track_running_stats=True)\n",
       "          (2): ReLU6(inplace=True)\n",
       "        )\n",
       "        (2): Conv2d(192, 32, kernel_size=(1, 1), stride=(1, 1), bias=False)\n",
       "        (3): BatchNorm2d(32, eps=1e-05, momentum=0.1, affine=True, track_running_stats=True)\n",
       "      )\n",
       "    )\n",
       "    (6): InvertedResidual(\n",
       "      (conv): Sequential(\n",
       "        (0): Conv2dNormActivation(\n",
       "          (0): Conv2d(32, 192, kernel_size=(1, 1), stride=(1, 1), bias=False)\n",
       "          (1): BatchNorm2d(192, eps=1e-05, momentum=0.1, affine=True, track_running_stats=True)\n",
       "          (2): ReLU6(inplace=True)\n",
       "        )\n",
       "        (1): Conv2dNormActivation(\n",
       "          (0): Conv2d(192, 192, kernel_size=(3, 3), stride=(1, 1), padding=(1, 1), groups=192, bias=False)\n",
       "          (1): BatchNorm2d(192, eps=1e-05, momentum=0.1, affine=True, track_running_stats=True)\n",
       "          (2): ReLU6(inplace=True)\n",
       "        )\n",
       "        (2): Conv2d(192, 32, kernel_size=(1, 1), stride=(1, 1), bias=False)\n",
       "        (3): BatchNorm2d(32, eps=1e-05, momentum=0.1, affine=True, track_running_stats=True)\n",
       "      )\n",
       "    )\n",
       "    (7): InvertedResidual(\n",
       "      (conv): Sequential(\n",
       "        (0): Conv2dNormActivation(\n",
       "          (0): Conv2d(32, 192, kernel_size=(1, 1), stride=(1, 1), bias=False)\n",
       "          (1): BatchNorm2d(192, eps=1e-05, momentum=0.1, affine=True, track_running_stats=True)\n",
       "          (2): ReLU6(inplace=True)\n",
       "        )\n",
       "        (1): Conv2dNormActivation(\n",
       "          (0): Conv2d(192, 192, kernel_size=(3, 3), stride=(2, 2), padding=(1, 1), groups=192, bias=False)\n",
       "          (1): BatchNorm2d(192, eps=1e-05, momentum=0.1, affine=True, track_running_stats=True)\n",
       "          (2): ReLU6(inplace=True)\n",
       "        )\n",
       "        (2): Conv2d(192, 64, kernel_size=(1, 1), stride=(1, 1), bias=False)\n",
       "        (3): BatchNorm2d(64, eps=1e-05, momentum=0.1, affine=True, track_running_stats=True)\n",
       "      )\n",
       "    )\n",
       "    (8): InvertedResidual(\n",
       "      (conv): Sequential(\n",
       "        (0): Conv2dNormActivation(\n",
       "          (0): Conv2d(64, 384, kernel_size=(1, 1), stride=(1, 1), bias=False)\n",
       "          (1): BatchNorm2d(384, eps=1e-05, momentum=0.1, affine=True, track_running_stats=True)\n",
       "          (2): ReLU6(inplace=True)\n",
       "        )\n",
       "        (1): Conv2dNormActivation(\n",
       "          (0): Conv2d(384, 384, kernel_size=(3, 3), stride=(1, 1), padding=(1, 1), groups=384, bias=False)\n",
       "          (1): BatchNorm2d(384, eps=1e-05, momentum=0.1, affine=True, track_running_stats=True)\n",
       "          (2): ReLU6(inplace=True)\n",
       "        )\n",
       "        (2): Conv2d(384, 64, kernel_size=(1, 1), stride=(1, 1), bias=False)\n",
       "        (3): BatchNorm2d(64, eps=1e-05, momentum=0.1, affine=True, track_running_stats=True)\n",
       "      )\n",
       "    )\n",
       "    (9): InvertedResidual(\n",
       "      (conv): Sequential(\n",
       "        (0): Conv2dNormActivation(\n",
       "          (0): Conv2d(64, 384, kernel_size=(1, 1), stride=(1, 1), bias=False)\n",
       "          (1): BatchNorm2d(384, eps=1e-05, momentum=0.1, affine=True, track_running_stats=True)\n",
       "          (2): ReLU6(inplace=True)\n",
       "        )\n",
       "        (1): Conv2dNormActivation(\n",
       "          (0): Conv2d(384, 384, kernel_size=(3, 3), stride=(1, 1), padding=(1, 1), groups=384, bias=False)\n",
       "          (1): BatchNorm2d(384, eps=1e-05, momentum=0.1, affine=True, track_running_stats=True)\n",
       "          (2): ReLU6(inplace=True)\n",
       "        )\n",
       "        (2): Conv2d(384, 64, kernel_size=(1, 1), stride=(1, 1), bias=False)\n",
       "        (3): BatchNorm2d(64, eps=1e-05, momentum=0.1, affine=True, track_running_stats=True)\n",
       "      )\n",
       "    )\n",
       "    (10): InvertedResidual(\n",
       "      (conv): Sequential(\n",
       "        (0): Conv2dNormActivation(\n",
       "          (0): Conv2d(64, 384, kernel_size=(1, 1), stride=(1, 1), bias=False)\n",
       "          (1): BatchNorm2d(384, eps=1e-05, momentum=0.1, affine=True, track_running_stats=True)\n",
       "          (2): ReLU6(inplace=True)\n",
       "        )\n",
       "        (1): Conv2dNormActivation(\n",
       "          (0): Conv2d(384, 384, kernel_size=(3, 3), stride=(1, 1), padding=(1, 1), groups=384, bias=False)\n",
       "          (1): BatchNorm2d(384, eps=1e-05, momentum=0.1, affine=True, track_running_stats=True)\n",
       "          (2): ReLU6(inplace=True)\n",
       "        )\n",
       "        (2): Conv2d(384, 64, kernel_size=(1, 1), stride=(1, 1), bias=False)\n",
       "        (3): BatchNorm2d(64, eps=1e-05, momentum=0.1, affine=True, track_running_stats=True)\n",
       "      )\n",
       "    )\n",
       "    (11): InvertedResidual(\n",
       "      (conv): Sequential(\n",
       "        (0): Conv2dNormActivation(\n",
       "          (0): Conv2d(64, 384, kernel_size=(1, 1), stride=(1, 1), bias=False)\n",
       "          (1): BatchNorm2d(384, eps=1e-05, momentum=0.1, affine=True, track_running_stats=True)\n",
       "          (2): ReLU6(inplace=True)\n",
       "        )\n",
       "        (1): Conv2dNormActivation(\n",
       "          (0): Conv2d(384, 384, kernel_size=(3, 3), stride=(1, 1), padding=(1, 1), groups=384, bias=False)\n",
       "          (1): BatchNorm2d(384, eps=1e-05, momentum=0.1, affine=True, track_running_stats=True)\n",
       "          (2): ReLU6(inplace=True)\n",
       "        )\n",
       "        (2): Conv2d(384, 96, kernel_size=(1, 1), stride=(1, 1), bias=False)\n",
       "        (3): BatchNorm2d(96, eps=1e-05, momentum=0.1, affine=True, track_running_stats=True)\n",
       "      )\n",
       "    )\n",
       "    (12): InvertedResidual(\n",
       "      (conv): Sequential(\n",
       "        (0): Conv2dNormActivation(\n",
       "          (0): Conv2d(96, 576, kernel_size=(1, 1), stride=(1, 1), bias=False)\n",
       "          (1): BatchNorm2d(576, eps=1e-05, momentum=0.1, affine=True, track_running_stats=True)\n",
       "          (2): ReLU6(inplace=True)\n",
       "        )\n",
       "        (1): Conv2dNormActivation(\n",
       "          (0): Conv2d(576, 576, kernel_size=(3, 3), stride=(1, 1), padding=(1, 1), groups=576, bias=False)\n",
       "          (1): BatchNorm2d(576, eps=1e-05, momentum=0.1, affine=True, track_running_stats=True)\n",
       "          (2): ReLU6(inplace=True)\n",
       "        )\n",
       "        (2): Conv2d(576, 96, kernel_size=(1, 1), stride=(1, 1), bias=False)\n",
       "        (3): BatchNorm2d(96, eps=1e-05, momentum=0.1, affine=True, track_running_stats=True)\n",
       "      )\n",
       "    )\n",
       "    (13): InvertedResidual(\n",
       "      (conv): Sequential(\n",
       "        (0): Conv2dNormActivation(\n",
       "          (0): Conv2d(96, 576, kernel_size=(1, 1), stride=(1, 1), bias=False)\n",
       "          (1): BatchNorm2d(576, eps=1e-05, momentum=0.1, affine=True, track_running_stats=True)\n",
       "          (2): ReLU6(inplace=True)\n",
       "        )\n",
       "        (1): Conv2dNormActivation(\n",
       "          (0): Conv2d(576, 576, kernel_size=(3, 3), stride=(1, 1), padding=(1, 1), groups=576, bias=False)\n",
       "          (1): BatchNorm2d(576, eps=1e-05, momentum=0.1, affine=True, track_running_stats=True)\n",
       "          (2): ReLU6(inplace=True)\n",
       "        )\n",
       "        (2): Conv2d(576, 96, kernel_size=(1, 1), stride=(1, 1), bias=False)\n",
       "        (3): BatchNorm2d(96, eps=1e-05, momentum=0.1, affine=True, track_running_stats=True)\n",
       "      )\n",
       "    )\n",
       "    (14): InvertedResidual(\n",
       "      (conv): Sequential(\n",
       "        (0): Conv2dNormActivation(\n",
       "          (0): Conv2d(96, 576, kernel_size=(1, 1), stride=(1, 1), bias=False)\n",
       "          (1): BatchNorm2d(576, eps=1e-05, momentum=0.1, affine=True, track_running_stats=True)\n",
       "          (2): ReLU6(inplace=True)\n",
       "        )\n",
       "        (1): Conv2dNormActivation(\n",
       "          (0): Conv2d(576, 576, kernel_size=(3, 3), stride=(2, 2), padding=(1, 1), groups=576, bias=False)\n",
       "          (1): BatchNorm2d(576, eps=1e-05, momentum=0.1, affine=True, track_running_stats=True)\n",
       "          (2): ReLU6(inplace=True)\n",
       "        )\n",
       "        (2): Conv2d(576, 160, kernel_size=(1, 1), stride=(1, 1), bias=False)\n",
       "        (3): BatchNorm2d(160, eps=1e-05, momentum=0.1, affine=True, track_running_stats=True)\n",
       "      )\n",
       "    )\n",
       "    (15): InvertedResidual(\n",
       "      (conv): Sequential(\n",
       "        (0): Conv2dNormActivation(\n",
       "          (0): Conv2d(160, 960, kernel_size=(1, 1), stride=(1, 1), bias=False)\n",
       "          (1): BatchNorm2d(960, eps=1e-05, momentum=0.1, affine=True, track_running_stats=True)\n",
       "          (2): ReLU6(inplace=True)\n",
       "        )\n",
       "        (1): Conv2dNormActivation(\n",
       "          (0): Conv2d(960, 960, kernel_size=(3, 3), stride=(1, 1), padding=(1, 1), groups=960, bias=False)\n",
       "          (1): BatchNorm2d(960, eps=1e-05, momentum=0.1, affine=True, track_running_stats=True)\n",
       "          (2): ReLU6(inplace=True)\n",
       "        )\n",
       "        (2): Conv2d(960, 160, kernel_size=(1, 1), stride=(1, 1), bias=False)\n",
       "        (3): BatchNorm2d(160, eps=1e-05, momentum=0.1, affine=True, track_running_stats=True)\n",
       "      )\n",
       "    )\n",
       "    (16): InvertedResidual(\n",
       "      (conv): Sequential(\n",
       "        (0): Conv2dNormActivation(\n",
       "          (0): Conv2d(160, 960, kernel_size=(1, 1), stride=(1, 1), bias=False)\n",
       "          (1): BatchNorm2d(960, eps=1e-05, momentum=0.1, affine=True, track_running_stats=True)\n",
       "          (2): ReLU6(inplace=True)\n",
       "        )\n",
       "        (1): Conv2dNormActivation(\n",
       "          (0): Conv2d(960, 960, kernel_size=(3, 3), stride=(1, 1), padding=(1, 1), groups=960, bias=False)\n",
       "          (1): BatchNorm2d(960, eps=1e-05, momentum=0.1, affine=True, track_running_stats=True)\n",
       "          (2): ReLU6(inplace=True)\n",
       "        )\n",
       "        (2): Conv2d(960, 160, kernel_size=(1, 1), stride=(1, 1), bias=False)\n",
       "        (3): BatchNorm2d(160, eps=1e-05, momentum=0.1, affine=True, track_running_stats=True)\n",
       "      )\n",
       "    )\n",
       "    (17): InvertedResidual(\n",
       "      (conv): Sequential(\n",
       "        (0): Conv2dNormActivation(\n",
       "          (0): Conv2d(160, 960, kernel_size=(1, 1), stride=(1, 1), bias=False)\n",
       "          (1): BatchNorm2d(960, eps=1e-05, momentum=0.1, affine=True, track_running_stats=True)\n",
       "          (2): ReLU6(inplace=True)\n",
       "        )\n",
       "        (1): Conv2dNormActivation(\n",
       "          (0): Conv2d(960, 960, kernel_size=(3, 3), stride=(1, 1), padding=(1, 1), groups=960, bias=False)\n",
       "          (1): BatchNorm2d(960, eps=1e-05, momentum=0.1, affine=True, track_running_stats=True)\n",
       "          (2): ReLU6(inplace=True)\n",
       "        )\n",
       "        (2): Conv2d(960, 320, kernel_size=(1, 1), stride=(1, 1), bias=False)\n",
       "        (3): BatchNorm2d(320, eps=1e-05, momentum=0.1, affine=True, track_running_stats=True)\n",
       "      )\n",
       "    )\n",
       "    (18): Conv2dNormActivation(\n",
       "      (0): Conv2d(320, 1280, kernel_size=(1, 1), stride=(1, 1), bias=False)\n",
       "      (1): BatchNorm2d(1280, eps=1e-05, momentum=0.1, affine=True, track_running_stats=True)\n",
       "      (2): ReLU6(inplace=True)\n",
       "    )\n",
       "  )\n",
       "  (classifier): Sequential(\n",
       "    (0): Dropout(p=0.2, inplace=False)\n",
       "    (1): Linear(in_features=1280, out_features=10, bias=True)\n",
       "  )\n",
       ")"
      ]
     },
     "execution_count": 62,
     "metadata": {},
     "output_type": "execute_result"
    }
   ],
   "source": [
    "teacher_model = teacher_model.to(device)\n",
    "teacher_model.eval()"
   ]
  },
  {
   "cell_type": "code",
   "execution_count": 63,
   "metadata": {},
   "outputs": [],
   "source": [
    "class LeNet5(nn.Module):\n",
    "    def __init__(self, num_classes):\n",
    "        super(LeNet5, self).__init__()\n",
    "        self.layer1 = nn.Sequential(\n",
    "            nn.Conv2d(3, 6, kernel_size=5, stride=1, padding=0),\n",
    "            nn.ReLU(),\n",
    "            nn.MaxPool2d(kernel_size = 2, stride = 2))\n",
    "        self.layer2 = nn.Sequential(\n",
    "            nn.Conv2d(6, 16, kernel_size=5, stride=1, padding=0),\n",
    "            nn.ReLU(),\n",
    "            nn.MaxPool2d(kernel_size = 2, stride = 2))\n",
    "        self.fc = nn.Linear(400, 120)\n",
    "        self.relu = nn.ReLU()\n",
    "        self.fc1 = nn.Linear(120, 84)\n",
    "        self.relu1 = nn.ReLU()\n",
    "        self.fc2 = nn.Linear(84, num_classes)\n",
    "        \n",
    "    def forward(self, x):\n",
    "        \n",
    "        out = self.layer1(x)\n",
    "        out = self.layer2(out)\n",
    "        out = out.reshape(out.size(0), -1)\n",
    "        out = nn.Dropout(0.1)(self.fc(out))\n",
    "        out = self.relu(out)\n",
    "        out = nn.Dropout(0.1)(self.fc1(out))\n",
    "        out = self.relu1(out)\n",
    "        out = self.fc2(out)\n",
    "        return out"
   ]
  },
  {
   "cell_type": "code",
   "execution_count": 64,
   "metadata": {},
   "outputs": [],
   "source": [
    "student_model = LeNet5(10).to(device)"
   ]
  },
  {
   "cell_type": "code",
   "execution_count": 65,
   "metadata": {},
   "outputs": [],
   "source": [
    "optimizer = optim.SGD(student_model.parameters(), lr = 0.01, momentum = 0.9, weight_decay = 5e-4)\n",
    "shedular  = optim.lr_scheduler.CosineAnnealingLR(optimizer, T_max = 40000, eta_min = 1e-7)"
   ]
  },
  {
   "cell_type": "code",
   "execution_count": 66,
   "metadata": {},
   "outputs": [],
   "source": [
    "def loss_func_train(student_output, teacher_output, y):\n",
    "    alpha = 0.1\n",
    "    Tem   = 1.5\n",
    "    error = nn.KLDivLoss(reduction = 'batchmean')(nn.LogSoftmax(dim = 1)(student_output/Tem), nn.Softmax(dim = 1)(teacher_output/Tem)) * (alpha * Tem * Tem) + nn.CrossEntropyLoss()(student_output.squeeze(), y) * (1 - alpha)\n",
    "    return error\n",
    "loss_func = nn.CrossEntropyLoss()"
   ]
  },
  {
   "cell_type": "code",
   "execution_count": 67,
   "metadata": {},
   "outputs": [],
   "source": [
    "loss_train_hist, acc_train_hist = [], []\n",
    "loss_valid_hist, acc_valid_hist = [], []\n",
    "\n",
    "best_acc   = 0\n",
    "best_model = [0]"
   ]
  },
  {
   "cell_type": "code",
   "execution_count": 74,
   "metadata": {},
   "outputs": [
    {
     "name": "stderr",
     "output_type": "stream",
     "text": [
      "Epoch=90: 100%|██████████| 391/391 [00:11<00:00, 34.97batch/s, Accuracy=71.5, loss=0.846]\n"
     ]
    },
    {
     "name": "stdout",
     "output_type": "stream",
     "text": [
      "valid loss=0.7887, accuracy=72.81\n",
      "\n",
      "model saved!\n"
     ]
    },
    {
     "name": "stderr",
     "output_type": "stream",
     "text": [
      "Epoch=91: 100%|██████████| 391/391 [00:11<00:00, 34.08batch/s, Accuracy=71.3, loss=0.851]\n"
     ]
    },
    {
     "name": "stdout",
     "output_type": "stream",
     "text": [
      "valid loss=0.7899, accuracy=72.65\n",
      "\n"
     ]
    },
    {
     "name": "stderr",
     "output_type": "stream",
     "text": [
      "Epoch=92: 100%|██████████| 391/391 [00:11<00:00, 33.83batch/s, Accuracy=71.3, loss=0.845]\n"
     ]
    },
    {
     "name": "stdout",
     "output_type": "stream",
     "text": [
      "valid loss=0.7904, accuracy=72.76\n",
      "\n"
     ]
    },
    {
     "name": "stderr",
     "output_type": "stream",
     "text": [
      "Epoch=93: 100%|██████████| 391/391 [00:12<00:00, 32.50batch/s, Accuracy=71.3, loss=0.848]\n"
     ]
    },
    {
     "name": "stdout",
     "output_type": "stream",
     "text": [
      "valid loss=0.7888, accuracy=72.78\n",
      "\n"
     ]
    },
    {
     "name": "stderr",
     "output_type": "stream",
     "text": [
      "Epoch=94: 100%|██████████| 391/391 [00:11<00:00, 33.82batch/s, Accuracy=71.4, loss=0.845]\n"
     ]
    },
    {
     "name": "stdout",
     "output_type": "stream",
     "text": [
      "valid loss=0.7902, accuracy=72.72\n",
      "\n"
     ]
    },
    {
     "name": "stderr",
     "output_type": "stream",
     "text": [
      "Epoch=95: 100%|██████████| 391/391 [00:12<00:00, 32.33batch/s, Accuracy=71.2, loss=0.846]\n"
     ]
    },
    {
     "name": "stdout",
     "output_type": "stream",
     "text": [
      "valid loss=0.7843, accuracy=72.64\n",
      "\n"
     ]
    },
    {
     "name": "stderr",
     "output_type": "stream",
     "text": [
      "Epoch=96: 100%|██████████| 391/391 [00:11<00:00, 32.68batch/s, Accuracy=71.5, loss=0.838]\n"
     ]
    },
    {
     "name": "stdout",
     "output_type": "stream",
     "text": [
      "valid loss=0.7942, accuracy=73.09\n",
      "\n",
      "model saved!\n"
     ]
    },
    {
     "name": "stderr",
     "output_type": "stream",
     "text": [
      "Epoch=97: 100%|██████████| 391/391 [00:11<00:00, 33.19batch/s, Accuracy=71.4, loss=0.842]\n"
     ]
    },
    {
     "name": "stdout",
     "output_type": "stream",
     "text": [
      "valid loss=0.793, accuracy=72.62\n",
      "\n"
     ]
    },
    {
     "name": "stderr",
     "output_type": "stream",
     "text": [
      "Epoch=98: 100%|██████████| 391/391 [00:11<00:00, 33.34batch/s, Accuracy=71.1, loss=0.844]\n"
     ]
    },
    {
     "name": "stdout",
     "output_type": "stream",
     "text": [
      "valid loss=0.7886, accuracy=72.46\n",
      "\n"
     ]
    },
    {
     "name": "stderr",
     "output_type": "stream",
     "text": [
      "Epoch=99: 100%|██████████| 391/391 [00:11<00:00, 33.19batch/s, Accuracy=71.3, loss=0.842]\n"
     ]
    },
    {
     "name": "stdout",
     "output_type": "stream",
     "text": [
      "valid loss=0.789, accuracy=73.01\n",
      "\n"
     ]
    }
   ],
   "source": [
    "start, end = 90, 100\n",
    "for i in range(start, end):\n",
    "\n",
    "  student_model, train_loss, train_acc = train_one_epoch(student_model, teacher_model, train_loader, loss_func_train, optimizer, shedular, i)\n",
    "  valid_loss, valid_acc = validation(student_model,test_loader,loss_func)\n",
    "\n",
    "  acc_train_hist.append(train_acc)\n",
    "  loss_train_hist.append(train_loss)\n",
    "\n",
    "  acc_valid_hist.append(valid_acc)\n",
    "  loss_valid_hist.append(valid_loss)\n",
    "\n",
    "  if valid_acc>best_acc:\n",
    "    best_acc = valid_acc \n",
    "    best_model[0] = copy.deepcopy(student_model)\n",
    "    print('model saved!')"
   ]
  },
  {
   "cell_type": "code",
   "execution_count": 75,
   "metadata": {},
   "outputs": [
    {
     "data": {
      "image/png": "[encoded data removed]",
      "text/plain": [
       "<Figure size 640x480 with 1 Axes>"
      ]
     },
     "metadata": {},
     "output_type": "display_data"
    }
   ],
   "source": [
    "plt.plot(range(end), loss_train_hist, label = 'Train Loss') \n",
    "plt.plot(range(end), loss_valid_hist, label = 'Validation Loss')\n",
    "plt.xlabel('Epoch')\n",
    "plt.ylabel('Loss')\n",
    "plt.show()"
   ]
  },
  {
   "cell_type": "code",
   "execution_count": 76,
   "metadata": {},
   "outputs": [
    {
     "data": {
      "image/png": "[encoded data removed]",
      "text/plain": [
       "<Figure size 640x480 with 1 Axes>"
      ]
     },
     "metadata": {},
     "output_type": "display_data"
    }
   ],
   "source": [
    "plt.plot(range(end), acc_train_hist, label = 'Train Accurcay') \n",
    "plt.plot(range(end), acc_valid_hist, label = 'Validation Accuracy')\n",
    "plt.xlabel('Epoch')\n",
    "plt.ylabel('Accuracy')\n",
    "plt.show()"
   ]
  },
  {
   "cell_type": "code",
   "execution_count": 79,
   "metadata": {},
   "outputs": [
    {
     "data": {
      "text/plain": [
       "73.089998960495"
      ]
     },
     "execution_count": 79,
     "metadata": {},
     "output_type": "execute_result"
    }
   ],
   "source": [
    "max(acc_valid_hist)"
   ]
  }
 ],
 "metadata": {
  "kernelspec": {
   "display_name": "base",
   "language": "python",
   "name": "python3"
  },
  "language_info": {
   "codemirror_mode": {
    "name": "ipython",
    "version": 3
   },
   "file_extension": ".py",
   "mimetype": "text/x-python",
   "name": "python",
   "nbconvert_exporter": "python",
   "pygments_lexer": "ipython3",
   "version": "3.10.9 (main, Mar  1 2023, 18:23:06) [GCC 11.2.0]"
  },
  "orig_nbformat": 4,
  "vscode": {
   "interpreter": {
    "hash": "91a66feb288e5a3ba784db9ef5ea18e02a46e15100cc28412487b6abfb332ddd"
   }
  }
 },
 "nbformat": 4,
 "nbformat_minor": 2
}
