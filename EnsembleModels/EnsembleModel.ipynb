{
  "cells": [
    {
      "cell_type": "code",
      "execution_count": 61,
      "metadata": {
        "id": "3TkoLEt6wpBD"
      },
      "outputs": [],
      "source": [
        "import torch as tc\n",
        "from torch import nn, optim\n",
        "from torch.utils.data import DataLoader, Dataset, random_split\n",
        "\n",
        "\n",
        "import torchvision as tv\n",
        "from torchvision import transforms as T\n",
        "from torchvision import datasets\n",
        "from torchvision import models\n",
        "\n",
        "from torchmetrics import Accuracy\n",
        "\n",
        "from tqdm import tqdm\n",
        "\n",
        "import numpy as np\n",
        "import matplotlib.pyplot as plt\n",
        "\n",
        "import copy"
      ]
    },
    {
      "cell_type": "code",
      "execution_count": 62,
      "metadata": {
        "colab": {
          "base_uri": "https://localhost:8080/",
          "height": 36
        },
        "id": "_8nALUmLwpBG",
        "outputId": "8bdc55a9-d0b9-4268-c487-d9fe2169c68b"
      },
      "outputs": [
        {
          "output_type": "execute_result",
          "data": {
            "text/plain": [
              "'cuda'"
            ],
            "application/vnd.google.colaboratory.intrinsic+json": {
              "type": "string"
            }
          },
          "metadata": {},
          "execution_count": 62
        }
      ],
      "source": [
        "device = 'cuda' if tc.cuda.is_available() else 'cpu'\n",
        "device"
      ]
    },
    {
      "cell_type": "code",
      "execution_count": 63,
      "metadata": {
        "id": "IHx8OUHCwpBH"
      },
      "outputs": [],
      "source": [
        "class AverageMeter(object):\n",
        "    \"\"\"Computes and stores the average and current value\"\"\"\n",
        "    def __init__(self):\n",
        "        self.reset()\n",
        "\n",
        "    def reset(self):\n",
        "        self.val = 0\n",
        "        self.avg = 0\n",
        "        self.sum = 0\n",
        "        self.count = 0\n",
        "\n",
        "    def update(self, val, n=1):\n",
        "        self.val = val\n",
        "        self.sum += val * n\n",
        "        self.count += n\n",
        "        self.avg = self.sum / self.count"
      ]
    },
    {
      "cell_type": "code",
      "execution_count": 64,
      "metadata": {
        "id": "R3amn6mNwpBI"
      },
      "outputs": [],
      "source": [
        "def train_one_epoch(model, train_loader, loss_func, optimizer,shedular, epoch):\n",
        "    model.train()\n",
        "\n",
        "    train_loss=AverageMeter()\n",
        "    train_acc=Accuracy(task='multiclass', num_classes=10).to(device)\n",
        "\n",
        "    with tqdm(train_loader, unit='batch') as tepoch:\n",
        "        for x, y in tepoch:\n",
        "            if epoch is not None:\n",
        "                tepoch.set_description(f'Epoch={epoch}')\n",
        "\n",
        "            optimizer.zero_grad()\n",
        "\n",
        "            x = x.to(device)\n",
        "            y = y.to(device)\n",
        "\n",
        "            yp = model(x)\n",
        "\n",
        "            loss = loss_func(yp.squeeze(), y)\n",
        "            loss.backward()\n",
        "            optimizer.step()\n",
        "            shedular.step()\n",
        "\n",
        "\n",
        "            train_loss.update(loss.item())\n",
        "            train_acc(yp.squeeze(), y.int())\n",
        "\n",
        "            tepoch.set_postfix(loss=train_loss.avg, Accuracy=train_acc.compute().item() * 100)\n",
        "\n",
        "    return model, train_loss.avg, train_acc.compute().item() * 100"
      ]
    },
    {
      "cell_type": "code",
      "execution_count": 65,
      "metadata": {
        "id": "HuBnp_1cwpBI"
      },
      "outputs": [],
      "source": [
        "def validation(model, valid_loaedr, loss_func):\n",
        "    model.eval()\n",
        "\n",
        "    valid_loss=AverageMeter()\n",
        "    valid_acc=Accuracy(task='multiclass', num_classes=10).to(device)\n",
        "\n",
        "    for x, y in valid_loaedr:\n",
        "\n",
        "        x=x.to(device)\n",
        "        y=y.to(device)\n",
        "\n",
        "        yp=model(x)\n",
        "        loss=loss_func(yp.squeeze(), y)\n",
        "\n",
        "        valid_loss.update(loss.item())\n",
        "        valid_acc(yp.squeeze(), y)\n",
        "\n",
        "    print(f'valid loss={valid_loss.avg:.4}, accuracy={valid_acc.compute().item() * 100 :.4}')\n",
        "    print()\n",
        "\n",
        "    return valid_loss.avg, valid_acc.compute().item() * 100"
      ]
    },
    {
      "cell_type": "code",
      "execution_count": 66,
      "metadata": {
        "id": "4EHbwjWnwpBI"
      },
      "outputs": [],
      "source": [
        "train_transform = T.Compose([T.RandomCrop(32, 4),\n",
        "                             T.RandomHorizontalFlip(),\n",
        "                             T.ToTensor(),\n",
        "                             T.Normalize((0.4914, 0.4822, 0.4465), (0.2023, 0.1994, 0.2010))])\n",
        "\n",
        "test_transform = T.Compose([T.ToTensor(),\n",
        "                            T.Normalize((0.4914, 0.4822, 0.4465), (0.2023, 0.1994, 0.2010))])"
      ]
    },
    {
      "cell_type": "code",
      "execution_count": 67,
      "metadata": {
        "colab": {
          "base_uri": "https://localhost:8080/"
        },
        "id": "FqytR4vWwpBJ",
        "outputId": "e041342e-0ce5-4549-de94-032429736f02"
      },
      "outputs": [
        {
          "output_type": "stream",
          "name": "stdout",
          "text": [
            "Files already downloaded and verified\n",
            "Files already downloaded and verified\n"
          ]
        }
      ],
      "source": [
        "train_dataset = datasets.CIFAR10(root =  '/home/ahmadrezabaqerzadeh/datasets/', train = True, download = True, transform = train_transform)\n",
        "test_dataset  = datasets.CIFAR10(root = '/home/ahmadrezabaqerzadeh/datasets/', train = False, download = True, transform = test_transform)"
      ]
    },
    {
      "cell_type": "code",
      "execution_count": 68,
      "metadata": {
        "id": "1hcSAIJVwpBJ"
      },
      "outputs": [],
      "source": [
        "train_loader = DataLoader(train_dataset, batch_size = 512, shuffle = True, num_workers = 2)\n",
        "test_loader  = DataLoader(test_dataset, batch_size = 100, shuffle = False, num_workers = 2)"
      ]
    },
    {
      "cell_type": "code",
      "execution_count": 71,
      "metadata": {
        "id": "CvEWWAJqwpBK"
      },
      "outputs": [],
      "source": [
        "class EnsembleModels(nn.Module):\n",
        "\n",
        "    def __init__(self):\n",
        "        super(EnsembleModels, self).__init__()\n",
        "        with tc.no_grad():\n",
        "            self.model0 = models.mobilenet_v2()\n",
        "            self.model0.classifier[1] = nn.Linear(1280, 10)\n",
        "            self.model0.load_state_dict(tc.load('/content/TeacherModel.pt', map_location = device))\n",
        "            self.model0 = self.model0.requires_grad_(False)\n",
        "\n",
        "            self.model1 = models.mobilenet_v2()\n",
        "            self.model1.classifier[1] = nn.Linear(1280, 10)\n",
        "            self.model1.load_state_dict(tc.load('/content/SDModel.pt', map_location = device))\n",
        "            self.model1 = self.model1.requires_grad_(False)\n",
        "\n",
        "            self.model2 = models.mobilenet_v2()\n",
        "            self.model2.classifier[1] = nn.Linear(1280, 10)\n",
        "            self.model2.load_state_dict(tc.load('/content/SDModel.pt', map_location = device))\n",
        "            self.model2 = self.model2.requires_grad_(False)\n",
        "\n",
        "\n",
        "\n",
        "        self.fc0 = nn.Linear(10, 10)\n",
        "\n",
        "    def forward(self, x):\n",
        "\n",
        "        y0 = self.model0(x)\n",
        "        y1 = self.model1(x)\n",
        "        y2 = self.model2(x)\n",
        "\n",
        "        comb = tc.stack([y0, y1, y2], dim = 0)\n",
        "        out  = tc.mean(comb, dim = 0)\n",
        "        out  = out.squeeze()\n",
        "\n",
        "        out  = self.fc0(out)\n",
        "\n",
        "        return out"
      ]
    },
    {
      "cell_type": "code",
      "execution_count": 72,
      "metadata": {
        "id": "siE5fs7HwpBK"
      },
      "outputs": [],
      "source": [
        "x, y = next(iter(train_loader))"
      ]
    },
    {
      "cell_type": "code",
      "execution_count": 73,
      "metadata": {
        "id": "23JxFYyDwpBK"
      },
      "outputs": [],
      "source": [
        "model = EnsembleModels().to(device)"
      ]
    },
    {
      "cell_type": "code",
      "execution_count": 74,
      "metadata": {
        "id": "tveapPKZwpBL"
      },
      "outputs": [],
      "source": [
        "def num_parameters(model):\n",
        "    n = sum([tc.numel(p) for p in model.parameters() if p.requires_grad])\n",
        "    return str(n)"
      ]
    },
    {
      "cell_type": "code",
      "execution_count": 75,
      "metadata": {
        "colab": {
          "base_uri": "https://localhost:8080/",
          "height": 36
        },
        "id": "zq9SJazlwpBL",
        "outputId": "c3861ad1-8816-40cc-a483-d6978deffbc3"
      },
      "outputs": [
        {
          "output_type": "execute_result",
          "data": {
            "text/plain": [
              "'110'"
            ],
            "application/vnd.google.colaboratory.intrinsic+json": {
              "type": "string"
            }
          },
          "metadata": {},
          "execution_count": 75
        }
      ],
      "source": [
        "num_parameters(model)"
      ]
    },
    {
      "cell_type": "code",
      "execution_count": 76,
      "metadata": {
        "colab": {
          "base_uri": "https://localhost:8080/"
        },
        "id": "T7CFl74xwpBL",
        "outputId": "041a173e-bcdd-403e-c27a-a6095a3339c7"
      },
      "outputs": [
        {
          "output_type": "execute_result",
          "data": {
            "text/plain": [
              "torch.Size([512, 10])"
            ]
          },
          "metadata": {},
          "execution_count": 76
        }
      ],
      "source": [
        "model(x.to(device)).shape"
      ]
    },
    {
      "cell_type": "code",
      "execution_count": 77,
      "metadata": {
        "id": "VcnVSYoYwpBL"
      },
      "outputs": [],
      "source": [
        "optimizer = optim.SGD(model.parameters(), lr = 0.01, momentum = 0.9, weight_decay = 5e-4)\n",
        "shedular  = optim.lr_scheduler.CosineAnnealingLR(optimizer, T_max = 3000, eta_min = 1e-8)"
      ]
    },
    {
      "cell_type": "code",
      "execution_count": 78,
      "metadata": {
        "id": "LmilsrLewpBL"
      },
      "outputs": [],
      "source": [
        "loss_func = nn.CrossEntropyLoss()"
      ]
    },
    {
      "cell_type": "code",
      "execution_count": 79,
      "metadata": {
        "id": "d0Hr4uJCwpBM"
      },
      "outputs": [],
      "source": [
        "loss_train_hist, acc_train_hist = [], []\n",
        "loss_valid_hist, acc_valid_hist = [], []\n",
        "\n",
        "best_acc   = 0\n",
        "best_model = [0]"
      ]
    },
    {
      "cell_type": "code",
      "execution_count": 80,
      "metadata": {
        "colab": {
          "base_uri": "https://localhost:8080/"
        },
        "id": "ktYzGRTtwpBM",
        "outputId": "5b6b047e-da79-4cde-f6e0-eddc793d8e7d"
      },
      "outputs": [
        {
          "output_type": "stream",
          "name": "stderr",
          "text": [
            "Epoch=0: 100%|██████████| 98/98 [00:23<00:00,  4.22batch/s, Accuracy=89, loss=0.451]\n"
          ]
        },
        {
          "output_type": "stream",
          "name": "stdout",
          "text": [
            "valid loss=0.3539, accuracy=88.94\n",
            "\n",
            "model saved!\n"
          ]
        },
        {
          "output_type": "stream",
          "name": "stderr",
          "text": [
            "Epoch=1: 100%|██████████| 98/98 [00:23<00:00,  4.22batch/s, Accuracy=99, loss=0.0503]\n"
          ]
        },
        {
          "output_type": "stream",
          "name": "stdout",
          "text": [
            "valid loss=0.3653, accuracy=88.95\n",
            "\n",
            "model saved!\n"
          ]
        },
        {
          "output_type": "stream",
          "name": "stderr",
          "text": [
            "Epoch=2: 100%|██████████| 98/98 [00:22<00:00,  4.35batch/s, Accuracy=99.1, loss=0.0417]\n"
          ]
        },
        {
          "output_type": "stream",
          "name": "stdout",
          "text": [
            "valid loss=0.3753, accuracy=89.02\n",
            "\n",
            "model saved!\n"
          ]
        },
        {
          "output_type": "stream",
          "name": "stderr",
          "text": [
            "Epoch=3: 100%|██████████| 98/98 [00:21<00:00,  4.47batch/s, Accuracy=99.1, loss=0.0405]\n"
          ]
        },
        {
          "output_type": "stream",
          "name": "stdout",
          "text": [
            "valid loss=0.3835, accuracy=89.02\n",
            "\n"
          ]
        },
        {
          "output_type": "stream",
          "name": "stderr",
          "text": [
            "Epoch=4: 100%|██████████| 98/98 [00:21<00:00,  4.49batch/s, Accuracy=99.1, loss=0.0377]\n"
          ]
        },
        {
          "output_type": "stream",
          "name": "stdout",
          "text": [
            "valid loss=0.3914, accuracy=88.97\n",
            "\n"
          ]
        },
        {
          "output_type": "stream",
          "name": "stderr",
          "text": [
            "Epoch=5: 100%|██████████| 98/98 [00:22<00:00,  4.40batch/s, Accuracy=99.1, loss=0.0367]\n"
          ]
        },
        {
          "output_type": "stream",
          "name": "stdout",
          "text": [
            "valid loss=0.3961, accuracy=89.19\n",
            "\n",
            "model saved!\n"
          ]
        },
        {
          "output_type": "stream",
          "name": "stderr",
          "text": [
            "Epoch=6: 100%|██████████| 98/98 [00:22<00:00,  4.27batch/s, Accuracy=99.2, loss=0.034]\n"
          ]
        },
        {
          "output_type": "stream",
          "name": "stdout",
          "text": [
            "valid loss=0.4016, accuracy=89.12\n",
            "\n"
          ]
        },
        {
          "output_type": "stream",
          "name": "stderr",
          "text": [
            "Epoch=7: 100%|██████████| 98/98 [00:22<00:00,  4.28batch/s, Accuracy=99.1, loss=0.0334]\n"
          ]
        },
        {
          "output_type": "stream",
          "name": "stdout",
          "text": [
            "valid loss=0.407, accuracy=89.1\n",
            "\n"
          ]
        },
        {
          "output_type": "stream",
          "name": "stderr",
          "text": [
            "Epoch=8: 100%|██████████| 98/98 [00:23<00:00,  4.26batch/s, Accuracy=99.1, loss=0.0327]\n"
          ]
        },
        {
          "output_type": "stream",
          "name": "stdout",
          "text": [
            "valid loss=0.4095, accuracy=89.07\n",
            "\n"
          ]
        },
        {
          "output_type": "stream",
          "name": "stderr",
          "text": [
            "Epoch=9: 100%|██████████| 98/98 [00:22<00:00,  4.29batch/s, Accuracy=99.1, loss=0.0319]\n"
          ]
        },
        {
          "output_type": "stream",
          "name": "stdout",
          "text": [
            "valid loss=0.4139, accuracy=88.99\n",
            "\n"
          ]
        }
      ],
      "source": [
        "start, end = 0, 10\n",
        "for epoch in range(start, end):\n",
        "\n",
        "    model, train_loss, train_acc = train_one_epoch(model, train_loader, loss_func, optimizer, shedular, epoch)\n",
        "    val_loss, val_acc            = validation(model, test_loader, loss_func)\n",
        "\n",
        "    loss_train_hist.append(train_loss)\n",
        "    acc_train_hist.append(train_acc)\n",
        "\n",
        "    loss_valid_hist.append(val_loss)\n",
        "    acc_valid_hist.append(val_acc)\n",
        "\n",
        "    if val_acc>best_acc:\n",
        "        best_model = model\n",
        "        best_acc  = val_acc\n",
        "        print('model saved!')"
      ]
    }
  ],
  "metadata": {
    "kernelspec": {
      "display_name": "Python 3",
      "name": "python3"
    },
    "language_info": {
      "codemirror_mode": {
        "name": "ipython",
        "version": 3
      },
      "file_extension": ".py",
      "mimetype": "text/x-python",
      "name": "python",
      "nbconvert_exporter": "python",
      "pygments_lexer": "ipython3",
      "version": "3.10.9"
    },
    "orig_nbformat": 4,
    "vscode": {
      "interpreter": {
        "hash": "91a66feb288e5a3ba784db9ef5ea18e02a46e15100cc28412487b6abfb332ddd"
      }
    },
    "colab": {
      "provenance": [],
      "gpuType": "T4"
    },
    "accelerator": "GPU"
  },
  "nbformat": 4,
  "nbformat_minor": 0
}